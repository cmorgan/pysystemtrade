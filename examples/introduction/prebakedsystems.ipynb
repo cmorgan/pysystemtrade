{
 "cells": [
  {
   "cell_type": "code",
   "execution_count": 1,
   "metadata": {
    "collapsed": false
   },
   "outputs": [
    {
     "name": "stdout",
     "output_type": "stream",
     "text": [
      "Populating the interactive namespace from numpy and matplotlib\n"
     ]
    },
    {
     "name": "stderr",
     "output_type": "stream",
     "text": [
      "C:\\dev\\bin\\Anaconda\\envs\\pys\\lib\\site-packages\\matplotlib\\__init__.py:872: UserWarning: axes.color_cycle is deprecated and replaced with axes.prop_cycle; please use the latter.\n",
      "  warnings.warn(self.msg_depr % (key, alt_key))\n"
     ]
    }
   ],
   "source": [
    "%pylab inline"
   ]
  },
  {
   "cell_type": "code",
   "execution_count": 2,
   "metadata": {
    "collapsed": false
   },
   "outputs": [
    {
     "name": "stdout",
     "output_type": "stream",
     "text": [
      "System with stages: accounts, portfolio, positionSize, combForecast, forecastScaleCap, rules\n"
     ]
    },
    {
     "data": {
      "text/html": [
       "<div>\n",
       "<table border=\"1\" class=\"dataframe\">\n",
       "  <thead>\n",
       "    <tr style=\"text-align: right;\">\n",
       "      <th></th>\n",
       "      <th>pos</th>\n",
       "    </tr>\n",
       "  </thead>\n",
       "  <tbody>\n",
       "    <tr>\n",
       "      <th>2013-09-25</th>\n",
       "      <td>0.470997</td>\n",
       "    </tr>\n",
       "    <tr>\n",
       "      <th>2013-09-26</th>\n",
       "      <td>3.003317</td>\n",
       "    </tr>\n",
       "    <tr>\n",
       "      <th>2013-09-27</th>\n",
       "      <td>6.191039</td>\n",
       "    </tr>\n",
       "    <tr>\n",
       "      <th>2013-09-30</th>\n",
       "      <td>8.988203</td>\n",
       "    </tr>\n",
       "    <tr>\n",
       "      <th>2013-10-01</th>\n",
       "      <td>9.735288</td>\n",
       "    </tr>\n",
       "  </tbody>\n",
       "</table>\n",
       "</div>"
      ],
      "text/plain": [
       "                 pos\n",
       "2013-09-25  0.470997\n",
       "2013-09-26  3.003317\n",
       "2013-09-27  6.191039\n",
       "2013-09-30  8.988203\n",
       "2013-10-01  9.735288"
      ]
     },
     "execution_count": 2,
     "metadata": {},
     "output_type": "execute_result"
    }
   ],
   "source": [
    "from systems.provided.example.simplesystem import simplesystem\n",
    "\n",
    "my_system = simplesystem()\n",
    "print(my_system)\n",
    "my_system.portfolio.get_notional_position(\"EDOLLAR\").tail(5)"
   ]
  },
  {
   "cell_type": "code",
   "execution_count": 3,
   "metadata": {
    "collapsed": false
   },
   "outputs": [
    {
     "data": {
      "text/html": [
       "<div>\n",
       "<table border=\"1\" class=\"dataframe\">\n",
       "  <thead>\n",
       "    <tr style=\"text-align: right;\">\n",
       "      <th></th>\n",
       "      <th>pos</th>\n",
       "    </tr>\n",
       "  </thead>\n",
       "  <tbody>\n",
       "    <tr>\n",
       "      <th>2013-09-25</th>\n",
       "      <td>0.470997</td>\n",
       "    </tr>\n",
       "    <tr>\n",
       "      <th>2013-09-26</th>\n",
       "      <td>3.003317</td>\n",
       "    </tr>\n",
       "    <tr>\n",
       "      <th>2013-09-27</th>\n",
       "      <td>6.191039</td>\n",
       "    </tr>\n",
       "    <tr>\n",
       "      <th>2013-09-30</th>\n",
       "      <td>8.988203</td>\n",
       "    </tr>\n",
       "    <tr>\n",
       "      <th>2013-10-01</th>\n",
       "      <td>9.735288</td>\n",
       "    </tr>\n",
       "  </tbody>\n",
       "</table>\n",
       "</div>"
      ],
      "text/plain": [
       "                 pos\n",
       "2013-09-25  0.470997\n",
       "2013-09-26  3.003317\n",
       "2013-09-27  6.191039\n",
       "2013-09-30  8.988203\n",
       "2013-10-01  9.735288"
      ]
     },
     "execution_count": 3,
     "metadata": {},
     "output_type": "execute_result"
    }
   ],
   "source": [
    "from sysdata.csvdata import csvFuturesData\n",
    "from sysdata.configdata import Config\n",
    "\n",
    "\"\"\"\n",
    "Now loading config and data\n",
    "\"\"\"\n",
    "\n",
    "my_config = Config(\"systems.provided.example.simplesystemconfig.yaml\")\n",
    "my_data = csvFuturesData()\n",
    "my_system = simplesystem(config=my_config, data=my_data)\n",
    "my_system.portfolio.get_notional_position(\"EDOLLAR\").tail(5)"
   ]
  },
  {
   "cell_type": "code",
   "execution_count": 4,
   "metadata": {
    "collapsed": false
   },
   "outputs": [
    {
     "data": {
      "text/plain": [
       "[[('min', '-0.764'),\n",
       "  ('max', '0.1589'),\n",
       "  ('median', '0'),\n",
       "  ('mean', '0.0006711'),\n",
       "  ('std', '0.02224'),\n",
       "  ('skew', '-5.726'),\n",
       "  ('ann_daily_mean', '0.1718'),\n",
       "  ('ann_daily_std', '0.3559'),\n",
       "  ('sharpe', '0.4827'),\n",
       "  ('sortino', '0.4677'),\n",
       "  ('avg_drawdown', '-0.339'),\n",
       "  ('time_in_drawdown', '0.9864'),\n",
       "  ('calmar', '0.1109'),\n",
       "  ('avg_return_to_drawdown', '0.5068'),\n",
       "  ('avg_loss', '-0.01581'),\n",
       "  ('avg_gain', '0.01534'),\n",
       "  ('gaintolossratio', '0.9702'),\n",
       "  ('profitfactor', '1.113'),\n",
       "  ('hitrate', '0.5343')],\n",
       " ('You can also plot:', ['rolling_ann_std', 'drawdown', 'curve']),\n",
       " ('You can also print:', ['weekly', 'monthly', 'annual'])]"
      ]
     },
     "execution_count": 4,
     "metadata": {},
     "output_type": "execute_result"
    }
   ],
   "source": [
    "\"\"\"\n",
    "Let's get the chapter 15 system\n",
    "\"\"\"\n",
    "\n",
    "from systems.provided.futures_chapter15.basesystem import futures_system\n",
    "\n",
    "system = futures_system()\n",
    "system.accounts.portfolio().stats()"
   ]
  },
  {
   "cell_type": "code",
   "execution_count": 5,
   "metadata": {
    "collapsed": false
   },
   "outputs": [
    {
     "data": {
      "text/plain": [
       "<matplotlib.axes._subplots.AxesSubplot at 0xd6ec828>"
      ]
     },
     "execution_count": 5,
     "metadata": {},
     "output_type": "execute_result"
    },
    {
     "data": {
      "image/png": "[encoded data removed]",
      "text/plain": [
       "<matplotlib.figure.Figure at 0xa1e9fd0>"
      ]
     },
     "metadata": {},
     "output_type": "display_data"
    }
   ],
   "source": [
    "system.accounts.portfolio().curve().plot()"
   ]
  }
 ],
 "metadata": {
  "kernelspec": {
   "display_name": "Python 3",
   "language": "python",
   "name": "python3"
  },
  "language_info": {
   "codemirror_mode": {
    "name": "ipython",
    "version": 3
   },
   "file_extension": ".py",
   "mimetype": "text/x-python",
   "name": "python",
   "nbconvert_exporter": "python",
   "pygments_lexer": "ipython3",
   "version": "3.5.1"
  }
 },
 "nbformat": 4,
 "nbformat_minor": 0
}
